{
  "cells": [
    {
      "cell_type": "code",
      "execution_count": 1,
      "metadata": {
        "colab": {
          "base_uri": "https://localhost:8080/"
        },
        "id": "bn7r5uIRiEis",
        "outputId": "039a77b4-0687-4a7d-bf0a-369eb0c3ed71"
      },
      "outputs": [
        {
          "name": "stdout",
          "output_type": "stream",
          "text": [
            "Defaulting to user installation because normal site-packages is not writeable\n",
            "Requirement already satisfied: mat73 in /home/jrm22n/.local/lib/python3.10/site-packages (0.60)\n",
            "Requirement already satisfied: numpy in /home/jrm22n/.local/lib/python3.10/site-packages (from mat73) (1.23.5)\n",
            "Requirement already satisfied: h5py in /home/jrm22n/.local/lib/python3.10/site-packages (from mat73) (3.8.0)\n",
            "dict_keys(['ADT_loc', 'ADTnoseason_loc', 'LAT', 'LON', 'PRES', 'RHO', 'SAL', 'SH1950', 'SIG', 'SPICE', 'TEMP', 'TIME'])\n",
            "Number of profiles:  (4878,)\n",
            "Number of depths:  (1795,)\n"
          ]
        }
      ],
      "source": [
        "# from google.colab import drive\n",
        "# drive.mount('/content/drive')\n",
        "\n",
        "# Import necessary libraries\n",
        "import numpy as np\n",
        "import pandas as pd\n",
        "!pip install mat73\n",
        "import mat73\n",
        "import matplotlib.pyplot as plt\n",
        "import os\n",
        "\n",
        "# Define the list of input features\n",
        "# input_features = ['ssh', 'sst', 'time', 'lat', 'lon']\n",
        "input_features = ['ssh']\n",
        "n_neurons = 64\n",
        "\n",
        "# Load data from MATLAB files using mat73 library\n",
        "ARGO = mat73.loadmat('ARGO_GoM_20220920.mat', use_attrdict=True)\n",
        "# ARGO = mat73.loadmat('/content/drive/MyDrive/ARGO_GoM_20220920.mat', use_attrdict=True)\n",
        "\n",
        "# Display keys in the loaded ARGO data\n",
        "print(ARGO.keys())\n",
        "\n",
        "# Extract and display the relevant arrays from the ARGO variable\n",
        "pres = np.arange(5, 1800, 1, dtype=int)  # index\n",
        "sal = ARGO.SAL[pres, :]\n",
        "temp = ARGO.TEMP[pres, :]\n",
        "lat = ARGO.LAT\n",
        "lon = ARGO.LON\n",
        "ssh = ARGO.SH1950\n",
        "time = ARGO.TIME\n",
        "\n",
        "# Data cleaning: remove profiles with NaNs\n",
        "nan_index = np.logical_or(np.isnan(sal).any(axis=0), np.isnan(temp).any(axis=0))\n",
        "sal = sal[:, ~nan_index]\n",
        "temp = temp[:, ~nan_index]\n",
        "lat = lat[~nan_index]\n",
        "lon = lon[~nan_index]\n",
        "ssh = ssh[~nan_index]\n",
        "time = time[~nan_index]\n",
        "\n",
        "print(\"Number of profiles: \", time.shape)\n",
        "print(\"Number of depths: \" , pres.shape)"
      ]
    },
    {
      "cell_type": "markdown",
      "metadata": {
        "id": "zhARs4tfivjE"
      },
      "source": [
        "## PCA functions"
      ]
    },
    {
      "cell_type": "code",
      "execution_count": 2,
      "metadata": {
        "id": "LbLjyjQ-iqgv"
      },
      "outputs": [],
      "source": [
        "def center_data(data):\n",
        "    return data - np.mean(data, axis=0)\n",
        "\n",
        "def calculate_covariance(data):\n",
        "    return np.cov(data, rowvar=False)\n",
        "\n",
        "def get_eigenvalues_and_eigenvectors(covariance):\n",
        "    return np.linalg.eig(covariance)\n",
        "\n",
        "def select_principal_components(eigenvalues, eigenvectors, explained_variance=0.99):\n",
        "    idx = eigenvalues.argsort()[::-1]\n",
        "    eigenvalues = eigenvalues[idx]\n",
        "    eigenvectors = eigenvectors[:, idx]\n",
        "    \n",
        "    cumulative_explained_variance = np.cumsum(eigenvalues) / np.sum(eigenvalues)\n",
        "    n_components = np.argmax(cumulative_explained_variance >= explained_variance) + 1\n",
        "    \n",
        "    return eigenvectors[:, :n_components]\n",
        "\n",
        "def transform_data(data, eigenvectors):\n",
        "    return data.dot(eigenvectors)\n",
        "\n",
        "def reconstruct_data(data_transformed, eigenvectors, mean):\n",
        "    return data_transformed.dot(eigenvectors.T) + mean"
      ]
    },
    {
      "cell_type": "markdown",
      "metadata": {
        "id": "gab0xPAYj4EB"
      },
      "source": [
        "# Get principal components"
      ]
    },
    {
      "cell_type": "code",
      "execution_count": 3,
      "metadata": {
        "colab": {
          "base_uri": "https://localhost:8080/"
        },
        "id": "_-9cr6DypBes",
        "outputId": "109aaff8-e264-4fa2-c39e-b8c3b8922e4f"
      },
      "outputs": [
        {
          "name": "stdout",
          "output_type": "stream",
          "text": [
            "Temperature - Number of components: 6\n",
            "Salinity - Number of components: 11\n"
          ]
        }
      ],
      "source": [
        "t_data = np.transpose(temp)\n",
        "t_data_centered = center_data(t_data)\n",
        "t_covariance_matrix = calculate_covariance(t_data_centered)\n",
        "t_eigenvalues, t_eigenvectors = get_eigenvalues_and_eigenvectors(t_covariance_matrix)\n",
        "t_principal_eigenvectors = select_principal_components(t_eigenvalues, t_eigenvectors)\n",
        "t_data_transformed = transform_data(t_data_centered, t_principal_eigenvectors)\n",
        "t_components = t_data_transformed.shape[1]\n",
        "print(f'Temperature - Number of components: {t_components}')\n",
        "\n",
        "s_data = np.transpose(sal)\n",
        "s_data_centered = center_data(s_data)\n",
        "s_covariance_matrix = calculate_covariance(s_data_centered)\n",
        "s_eigenvalues, s_eigenvectors = get_eigenvalues_and_eigenvectors(s_covariance_matrix)\n",
        "s_principal_eigenvectors = select_principal_components(s_eigenvalues, s_eigenvectors)\n",
        "s_data_transformed = transform_data(s_data_centered, s_principal_eigenvectors)\n",
        "s_components = s_data_transformed.shape[1]\n",
        "print(f'Salinity - Number of components: {s_components}')"
      ]
    },
    {
      "cell_type": "code",
      "execution_count": 4,
      "metadata": {
        "id": "5dZhQc_5prgM"
      },
      "outputs": [],
      "source": [
        "def plot_profiles(true_profile, reconstructed_profile, parameter, depths, profile_index, ax):\n",
        "    ax.plot(true_profile, depths, label='PCA Profile', linewidth = 4)\n",
        "    ax.plot(reconstructed_profile, depths, label='Synthetic Profile', linewidth = 2)\n",
        "    ax.invert_yaxis()\n",
        "    ax.set_xlabel(parameter)\n",
        "    ax.set_ylabel('Depth (m)')\n",
        "    ax.grid()\n",
        "\n"
      ]
    },
    {
      "cell_type": "code",
      "execution_count": 5,
      "metadata": {
        "colab": {
          "base_uri": "https://localhost:8080/",
          "height": 513
        },
        "id": "aD71B42Np1q4",
        "outputId": "044d1657-c7b3-47e3-baa2-4a242a1d7978"
      },
      "outputs": [
        {
          "data": {
            "image/png": "[encoded data removed]",
            "text/plain": [
              "<Figure size 1500x600 with 2 Axes>"
            ]
          },
          "metadata": {},
          "output_type": "display_data"
        }
      ],
      "source": [
        "single_profile_index = 1\n",
        "\n",
        "# Temperature\n",
        "t_single_profile_centered = t_data_centered[single_profile_index] # Gets single profile\n",
        "t_single_profile_transformed = transform_data(t_single_profile_centered, t_principal_eigenvectors) # transforms it\n",
        "t_single_profile_mean = np.mean(t_data, axis=0)\n",
        "t_single_reconstructed_profile = reconstruct_data(t_single_profile_transformed, t_principal_eigenvectors, t_single_profile_mean)\n",
        "t_true_profile = t_data[single_profile_index]\n",
        "\n",
        "# Salinity\n",
        "s_single_profile_centered = s_data_centered[single_profile_index]\n",
        "s_single_profile_transformed = transform_data(s_single_profile_centered, s_principal_eigenvectors)\n",
        "s_single_profile_mean = np.mean(s_data, axis=0)\n",
        "s_single_reconstructed_profile = reconstruct_data(s_single_profile_transformed, s_principal_eigenvectors, s_single_profile_mean)\n",
        "s_true_profile = s_data[single_profile_index]\n",
        "\n",
        "# Plotting\n",
        "fig, axes = plt.subplots(nrows=1, ncols=2, figsize=(15, 6))\n",
        "\n",
        "plot_profiles(t_true_profile, t_single_reconstructed_profile, 'Temperature', pres, single_profile_index, axes[0])\n",
        "plot_profiles(s_true_profile, s_single_reconstructed_profile, 'Salinity', pres, single_profile_index, axes[1])\n",
        "axes[0].legend()\n",
        "axes[1].legend()\n",
        "axes[0].set_title('Temperature')\n",
        "axes[1].set_title('Salinity')\n",
        "\n",
        "plt.show()"
      ]
    },
    {
      "cell_type": "markdown",
      "metadata": {
        "id": "V9-hTL1Zpzdk"
      },
      "source": [
        "At this point, our label data are 6 components for each temperature profile and 11 components for each salinity profile. This is stored in t_data_transformed and s_data_transformed, respectively."
      ]
    },
    {
      "cell_type": "code",
      "execution_count": 6,
      "metadata": {
        "colab": {
          "base_uri": "https://localhost:8080/"
        },
        "id": "L5LL3T4LFo9M",
        "outputId": "4aae7aee-0052-49ad-d7d2-d88a16709dd9"
      },
      "outputs": [
        {
          "name": "stdout",
          "output_type": "stream",
          "text": [
            "2\n",
            "(3902, 1)\n",
            "(3902, 17)\n"
          ]
        }
      ],
      "source": [
        "from sklearn.model_selection import train_test_split\n",
        "from sklearn.preprocessing import StandardScaler\n",
        "\n",
        "# Define the list of input features\n",
        "# input_features = ['pres', 'ssh', 'sst', 'time', 'lat', 'lon']\n",
        "input_features = ['ssh']\n",
        "output_features = ['temp', 'sal']\n",
        "# output_features = ['temp']\n",
        "# output_features = ['sal']\n",
        "d = len(input_features) # input dimension\n",
        "od = len(output_features)\n",
        "\n",
        "print(od)\n",
        "\n",
        "# Select the columns corresponding to the input features\n",
        "X_cols = [ssh] # if using more parameters, just add\n",
        "X = np.column_stack(X_cols)\n",
        "y_cols = [t_data_transformed, s_data_transformed]\n",
        "# y_cols = [t_data_transformed]\n",
        "# y_cols = [s_data_transformed]\n",
        "y = np.column_stack(y_cols)\n",
        "# print(y.shape)\n",
        "od = y.shape[1] # output dimension\n",
        "\n",
        "indices = np.arange(len(ssh))\n",
        "\n",
        "X_train, X_val_test, y_train, y_val_test, i_train, i_val_test = train_test_split(X, y, indices, test_size=0.2, random_state=42)\n",
        "\n",
        "X_val, X_test, y_val, y_test, i_val, i_test = train_test_split(X_val_test, y_val_test, i_val_test, test_size=0.5, random_state=42)\n",
        "\n",
        "m_test = len(y_test) # number of test cases\n",
        "m_train = len(y_train) # number of train cases\n",
        "\n",
        "# Normalize the input data using z-score normalization\n",
        "scaler = StandardScaler()\n",
        "y_train = scaler.fit_transform(y_train)\n",
        "y_val = scaler.transform(y_val)\n",
        "y_test = scaler.transform(y_test)\n",
        "\n",
        "print(X_train.shape)\n",
        "print(y_train.shape)"
      ]
    },
    {
      "cell_type": "markdown",
      "metadata": {
        "id": "6WcZqz0krT64"
      },
      "source": [
        "# CONTINUE FROM HERE\n",
        "## NN architecture"
      ]
    },
    {
      "cell_type": "code",
      "execution_count": 18,
      "metadata": {
        "colab": {
          "base_uri": "https://localhost:8080/"
        },
        "id": "q85X1TgMrD60",
        "outputId": "a79c96af-3fdc-462b-fac4-fd9b78f932c5"
      },
      "outputs": [
        {
          "name": "stdout",
          "output_type": "stream",
          "text": [
            "Using TensorFlow version, 2.12.0\n"
          ]
        }
      ],
      "source": [
        "import tensorflow as tf\n",
        "print('Using TensorFlow version,', tf.__version__)\n",
        "import datetime\n",
        "from keras.models import Sequential\n",
        "from keras.layers import Layer, InputLayer, Activation, Dense\n",
        "from tensorflow.keras import initializers\n",
        "import gc # garbage collector\n",
        "# call garbage collector for unused references\n",
        "gc.collect() \n",
        "from tensorflow.keras.callbacks import EarlyStopping\n",
        "from sklearn.metrics import mean_squared_error, r2_score\n",
        "import tensorflow.keras.backend as K\n",
        "\n",
        "# Define the early stopping callback\n",
        "early_stopping_callback = EarlyStopping(monitor='val_loss', patience=50, restore_best_weights=True)\n"
      ]
    },
    {
      "cell_type": "code",
      "execution_count": 19,
      "metadata": {
        "colab": {
          "base_uri": "https://localhost:8080/",
          "height": 1000
        },
        "id": "iP-inJKr8MeR",
        "outputId": "bd7f691b-9f0d-4e21-cde2-1f1fd39e448e"
      },
      "outputs": [
        {
          "name": "stdout",
          "output_type": "stream",
          "text": [
            "Epoch 1/500\n",
            "Epoch 2/500\n",
            "Epoch 3/500\n",
            "Epoch 4/500\n",
            "Epoch 5/500\n",
            "Epoch 6/500\n",
            "Epoch 7/500\n",
            "Epoch 8/500\n",
            "Epoch 9/500\n",
            "Epoch 10/500\n",
            "Epoch 11/500\n",
            "Epoch 12/500\n",
            "Epoch 13/500\n",
            "Epoch 14/500\n",
            "Epoch 15/500\n",
            "Epoch 16/500\n",
            "Epoch 17/500\n",
            "Epoch 18/500\n",
            "Epoch 19/500\n",
            "Epoch 20/500\n",
            "Epoch 21/500\n",
            "Epoch 22/500\n",
            "Epoch 23/500\n",
            "Epoch 24/500\n",
            "Epoch 25/500\n",
            "Epoch 26/500\n",
            "Epoch 27/500\n",
            "Epoch 28/500\n",
            "Epoch 29/500\n",
            "Epoch 30/500\n",
            "Epoch 31/500\n",
            "Epoch 32/500\n",
            "Epoch 33/500\n",
            "Epoch 34/500\n",
            "Epoch 35/500\n",
            "Epoch 36/500\n",
            "Epoch 37/500\n",
            "Epoch 38/500\n",
            "Epoch 39/500\n",
            "Epoch 40/500\n",
            "Epoch 41/500\n",
            "Epoch 42/500\n",
            "Epoch 43/500\n",
            "Epoch 44/500\n",
            "Epoch 45/500\n",
            "Epoch 46/500\n",
            "Epoch 47/500\n",
            "Epoch 48/500\n",
            "Epoch 49/500\n",
            "Epoch 50/500\n",
            "Epoch 51/500\n",
            "Epoch 52/500\n",
            "Epoch 53/500\n",
            "Epoch 54/500\n",
            "Epoch 55/500\n",
            "Epoch 56/500\n",
            "Epoch 57/500\n",
            "Epoch 58/500\n",
            "Epoch 59/500\n",
            "Epoch 60/500\n",
            "Epoch 61/500\n",
            "Epoch 62/500\n",
            "Epoch 63/500\n",
            "Epoch 64/500\n",
            "Epoch 65/500\n",
            "Epoch 66/500\n",
            "Epoch 67/500\n",
            "Epoch 68/500\n",
            "Epoch 69/500\n",
            "Epoch 70/500\n",
            "Epoch 71/500\n",
            "Epoch 72/500\n",
            "Epoch 73/500\n",
            "Epoch 74/500\n",
            "Epoch 75/500\n",
            "Epoch 76/500\n",
            "Epoch 77/500\n",
            "Epoch 78/500\n",
            "Epoch 79/500\n",
            "Epoch 80/500\n",
            "Epoch 81/500\n",
            "Epoch 82/500\n",
            "Epoch 83/500\n",
            "Epoch 84/500\n",
            "16/16 [==============================] - 0s 2ms/step - loss: 0.7797\n",
            "122/122 [==============================] - 0s 2ms/step - loss: 0.7956\n"
          ]
        },
        {
          "data": {
            "image/png": "[encoded data removed]",
            "text/plain": [
              "<Figure size 800x600 with 1 Axes>"
            ]
          },
          "metadata": {},
          "output_type": "display_data"
        },
        {
          "name": "stdout",
          "output_type": "stream",
          "text": [
            "16/16 [==============================] - 0s 2ms/step\n",
            "16/16 [==============================] - 0s 2ms/step - loss: 0.8536\n",
            "MSE on train set: 0.7955998778343201\n",
            "MSE on test set: 0.7797305583953857\n",
            "MSE on validation set: 0.8535863161087036\n",
            "R-squared on validation set: 0.19490879083908522\n"
          ]
        }
      ],
      "source": [
        "# Define the log directory for TensorBoard\n",
        "log_dir = \"logs/fit/\" + datetime.datetime.now().strftime(\"%Y%m%d-%H%M%S\")\n",
        "# Define the TensorBoard callback\n",
        "tensorboard_callback = tf.keras.callbacks.TensorBoard(log_dir=log_dir, histogram_freq=1)\n",
        "\n",
        "# Define the neural network architecture\n",
        "model = tf.keras.models.Sequential([\n",
        "    tf.keras.layers.Dense(n_neurons, activation='tanh', input_shape=(X_train.shape[1],)),\n",
        "    tf.keras.layers.Dense(n_neurons, activation='tanh'),\n",
        "    tf.keras.layers.Dense(n_neurons, activation='tanh'),\n",
        "    tf.keras.layers.Dense(y_train.shape[1], activation=None)\n",
        "])\n",
        "\n",
        "# set the decay schedule for the learning rate as exponentially decaying \n",
        "init_rate = 0.01\n",
        "decay_steps = 500\n",
        "decay_rate = np.exp(0.2*(np.log(5e-4)-np.log(init_rate)))\n",
        "exp_decay_schedule = tf.keras.optimizers.schedules.ExponentialDecay(\n",
        "    init_rate, decay_steps, decay_rate, staircase = False, name = None\n",
        ")\n",
        "\n",
        "# def cosine_similarity_loss(y_true, y_pred):\n",
        "#     y_true_norm = K.l2_normalize(y_true, axis=-1)\n",
        "#     y_pred_norm = K.l2_normalize(y_pred, axis=-1)\n",
        "#     return 1 - K.mean(K.sum(y_true_norm * y_pred_norm, axis=-1))\n",
        "\n",
        "\n",
        "# Define the optimizer with the learning rate schedule\n",
        "optimizer = tf.keras.optimizers.Adam(learning_rate=exp_decay_schedule)\n",
        "model.compile(optimizer=optimizer, loss='mse')\n",
        "# model.compile(optimizer=optimizer, loss=cosine_similarity_loss)\n",
        "\n",
        "# # Compile the model\n",
        "# model.compile(optimizer='adam', loss='mse')\n",
        "\n",
        "# Train the model with early stopping\n",
        "history = model.fit(X_train, y_train, validation_data=(X_val, y_val), epochs=500, batch_size=32, \n",
        "                    callbacks=[tensorboard_callback, early_stopping_callback], verbose=10)\n",
        "\n",
        "# Evaluate the model on test set\n",
        "mse_test = model.evaluate(X_test, y_test)\n",
        "mse_train = model.evaluate(X_train, y_train)\n",
        "\n",
        "# Save the model\n",
        "# model.save('model.h5')\n",
        "\n",
        "# Plot the loss history during training\n",
        "plt.figure(figsize=(8, 6))\n",
        "plt.plot(history.history['loss'], label='Training loss')\n",
        "plt.plot(history.history['val_loss'], label='Validation loss')\n",
        "plt.yscale('log')\n",
        "plt.xlabel('Epoch')\n",
        "plt.ylabel('Loss')\n",
        "plt.legend()\n",
        "\n",
        "# filename = f\"figures/0loss_NN_GEM.jpg\"\n",
        "# plt.savefig(filename)\n",
        "\n",
        "plt.show()\n",
        "\n",
        "# Calculate predictions on validation set\n",
        "y_pred = model.predict(X_val)\n",
        "\n",
        "# Calculate and print mean squared error on validation set\n",
        "mse_val = model.evaluate(X_val, y_val)\n",
        "print('MSE on train set:', mse_train)\n",
        "print('MSE on test set:', mse_test)\n",
        "print('MSE on validation set:', mse_val)\n",
        "\n",
        "# Calculate and print R-squared on validation set\n",
        "r2_val = r2_score(y_val, y_pred)\n",
        "print('R-squared on validation set:', r2_val)\n"
      ]
    },
    {
      "cell_type": "code",
      "execution_count": 21,
      "metadata": {
        "colab": {
          "base_uri": "https://localhost:8080/"
        },
        "id": "nSHvD0eHVK-H",
        "outputId": "b66cd194-da94-4f24-ad04-2b3640cda375"
      },
      "outputs": [
        {
          "name": "stdout",
          "output_type": "stream",
          "text": [
            "Average % difference in Temperature: 6.74%\n",
            "Average % difference in Salinity: 0.20%\n",
            "Max % difference in Temperature: 20.92%, profile 83\n",
            "Max % difference in Salinity: 0.54%, profile 202\n"
          ]
        }
      ],
      "source": [
        "# Initialize list to store % differences between true and predicted profiles\n",
        "t_percent_diff = []\n",
        "t_max_dif = -1\n",
        "t_max_index = []\n",
        "\n",
        "s_percent_diff = []\n",
        "s_max_dif = -1\n",
        "s_max_index = []\n",
        "\n",
        "if not os.path.exists('figures'):\n",
        "    os.makedirs('figures')\n",
        "\n",
        "# Initialize table to store performance metrics\n",
        "metrics_table = []\n",
        "\n",
        "# Iterate over each row in y_val\n",
        "for val_profile_index in range(y_val.shape[0]):\n",
        "    # Separate the predicted temperature and salinity PCA coefficients\n",
        "    t_pred_pca = y_pred[val_profile_index, :t_components]\n",
        "    s_pred_pca = y_pred[val_profile_index, t_components:]\n",
        "    \n",
        "    # Reconstruct the temperature and salinity profiles using the respective eigenvectors\n",
        "    t_pred_reconstructed = reconstruct_data(t_pred_pca, t_principal_eigenvectors, t_single_profile_mean)\n",
        "    s_pred_reconstructed = reconstruct_data(s_pred_pca, s_principal_eigenvectors, s_single_profile_mean)\n",
        "    \n",
        "    # Get the true profiles from the validation set\n",
        "    t_true_val_profile = y_val[val_profile_index, :t_data_transformed.shape[1]]\n",
        "    s_true_val_profile = y_val[val_profile_index, t_data_transformed.shape[1]:]\n",
        "    \n",
        "    # Reconstruct the true temperature and salinity profiles using the respective eigenvectors\n",
        "    t_true_reconstructed = reconstruct_data(t_true_val_profile, t_principal_eigenvectors, t_single_profile_mean)\n",
        "    s_true_reconstructed = reconstruct_data(s_true_val_profile, s_principal_eigenvectors, s_single_profile_mean)\n",
        "    \n",
        "    # Calculate MSE and R-squared values\n",
        "    t_mse = mean_squared_error(t_true_reconstructed, t_pred_reconstructed)\n",
        "    t_r2 = r2_score(t_true_reconstructed, t_pred_reconstructed)\n",
        "    s_mse = mean_squared_error(s_true_reconstructed, s_pred_reconstructed)\n",
        "    s_r2 = r2_score(s_true_reconstructed, s_pred_reconstructed)\n",
        "    \n",
        "    # Append performance metrics to table\n",
        "    metrics_table.append([t_mse, t_r2, s_mse, s_r2])\n",
        "    \n",
        "    # Calculate % difference between true and predicted profiles\n",
        "    t_cur_diff = np.mean(np.abs((temp[:, i_val[val_profile_index]] - t_pred_reconstructed) / t_true_reconstructed)) * 100\n",
        "    s_cur_diff = np.mean(np.abs((sal[:, i_val[val_profile_index]] - s_pred_reconstructed) / s_true_reconstructed)) * 100\n",
        "\n",
        "    t_percent_diff.append(t_cur_diff)\n",
        "    s_percent_diff.append(s_cur_diff)\n",
        "    \n",
        "    if (t_cur_diff > t_max_dif):\n",
        "        t_max_dif = t_cur_diff\n",
        "        t_max_index = val_profile_index\n",
        "        \n",
        "    if (s_cur_diff > s_max_dif):\n",
        "        s_max_dif = s_cur_diff\n",
        "        s_max_index = val_profile_index\n",
        "    \n",
        "    # Plot the true and reconstructed profiles\n",
        "    fig, axes = plt.subplots(nrows=1, ncols=2, figsize=(15, 6))\n",
        "    \n",
        "    # Add titles to subplots with performance metrics\n",
        "    axes[0].set_title(f'Temperature (MSE: {t_mse:.2f}, R2: {t_r2:.2f})')\n",
        "    axes[1].set_title(f'Salinity (MSE: {s_mse:.2f}, R2: {s_r2:.2f})')\n",
        "    \n",
        "    plot_profiles(t_true_reconstructed, t_pred_reconstructed, 'Temperature (°C)', pres, val_profile_index, axes[0])\n",
        "    plot_profiles(s_true_reconstructed, s_pred_reconstructed, 'Salinity', pres, val_profile_index, axes[1])\n",
        "    axes[0].plot(temp[:, i_val[val_profile_index]], pres, label='True Profile', linewidth = 2, linestyle = ':')\n",
        "    axes[1].plot(sal[:, i_val[val_profile_index]], pres, label='True Profile', linewidth = 2, linestyle = ':')\n",
        "    axes[0].legend()\n",
        "    axes[1].legend()\n",
        "    axes[0].set_title('Temperature')\n",
        "    axes[1].set_title('Salinity')\n",
        "    fig.suptitle(f'Profile {val_profile_index}, SSH = {ssh[i_val[val_profile_index]]}')\n",
        "\n",
        "    # Save the plot\n",
        "    plt.savefig(f'figures/val_profile_{val_profile_index}.png')\n",
        "    plt.close()\n",
        "\n",
        "    fig, axes = plt.subplots(nrows=1, ncols=2, figsize=(15, 6))\n",
        "\n",
        "    # Add titles to subplots with performance metrics\n",
        "    axes[0].set_title(f'Temperature (MSE: {t_mse:.2f}, R2: {t_r2:.2f})')\n",
        "    axes[1].set_title(f'Salinity (MSE: {s_mse:.2f}, R2: {s_r2:.2f})')\n",
        "\n",
        "    plot_profiles(t_true_reconstructed, t_pred_reconstructed, 'Temperature (°C)', pres, val_profile_index, axes[0])\n",
        "    plot_profiles(s_true_reconstructed, s_pred_reconstructed, 'Salinity', pres, val_profile_index, axes[1])\n",
        "    axes[0].plot(temp[:, i_val[val_profile_index]], pres, label='True Profile', linewidth = 2, linestyle = ':')\n",
        "    axes[1].plot(sal[:, i_val[val_profile_index]], pres, label='True Profile', linewidth = 2, linestyle = ':')\n",
        "    axes[0].legend()\n",
        "    axes[1].legend()\n",
        "    axes[0].set_title('Temperature')\n",
        "    axes[1].set_title('Salinity')\n",
        "    fig.suptitle(f'Profile {val_profile_index}, SSH = {ssh[i_val[val_profile_index]]}')\n",
        "    # Set y-axis limits to show only the first 300 meters ?\n",
        "    axes[0].set_ylim(300, 0)\n",
        "    axes[1].set_ylim(300, 0)\n",
        "\n",
        "    # Save the plot\n",
        "    plt.savefig(f'figures/surf_val_profile_{val_profile_index}.png')\n",
        "    plt.close()\n",
        "\n",
        "# Convert metrics table to Pandas DataFrame\n",
        "metrics_table = pd.DataFrame(metrics_table, columns=['Temp MSE', 'Temp R2', 'Salinity MSE', 'Salinity R2'])\n",
        "\n",
        "# Calculate and print the average % difference between true and predicted T and S profiles\n",
        "print(f\"Average % difference in Temperature: {np.mean(t_percent_diff):.2f}%\")\n",
        "print(f\"Average % difference in Salinity: {np.mean(s_percent_diff):.2f}%\")\n",
        "print(f\"Max % difference in Temperature: {t_max_dif:.2f}%, profile {t_max_index}\")\n",
        "print(f\"Max % difference in Salinity: {s_max_dif:.2f}%, profile {s_max_index}\")\n",
        "\n",
        "# Export metrics table as CSV\n",
        "metrics_table.to_csv('metrics_table.csv', index=False)"
      ]
    }
  ],
  "metadata": {
    "accelerator": "GPU",
    "colab": {
      "gpuType": "T4",
      "provenance": []
    },
    "gpuClass": "standard",
    "kernelspec": {
      "display_name": "Python 3",
      "name": "python3"
    },
    "language_info": {
      "codemirror_mode": {
        "name": "ipython",
        "version": 3
      },
      "file_extension": ".py",
      "mimetype": "text/x-python",
      "name": "python",
      "nbconvert_exporter": "python",
      "pygments_lexer": "ipython3",
      "version": "3.10.6"
    }
  },
  "nbformat": 4,
  "nbformat_minor": 0
}
